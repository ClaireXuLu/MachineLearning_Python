{
 "cells": [
  {
   "cell_type": "markdown",
   "id": "c469d796",
   "metadata": {},
   "source": [
    "# 二. 逻辑回归\n",
    "\n",
    "## 1. 二分类逻辑回归\n",
    "\n",
    "$$\n",
    "z= \\vec{x}\\vec{w} = w_0 + w_1x_1 +w_2x_2 + ... +w_nx_n\\\\\n",
    "y=h_w(x)=sigmoid(z)=\\frac{1}{1+e^{-z}}\n",
    "$$\n",
    "\n",
    "### (1). 交叉熵损失函数\n",
    "\n",
    "$$\n",
    "J(w) = -\\frac{1}{m}\\sum_{i=1}^m{[y^{(i)}log(\\widehat{y}^{(i)}) + (1-y^{(i)})log(1-\\widehat{y}^{(i)})]}\n",
    "$$\n",
    "\n",
    "### (2). 交叉熵损失函数原理推导\n",
    "\n",
    "交叉熵损失函数的本质是等价于极大似然估计，已知：\n",
    "$$\n",
    "P(y=1|x, w) = h_w(x)\\\\\n",
    "P(y-0 |x, w) = 1 - h_w(x)\n",
    "$$\n",
    "因此\n",
    "$$\n",
    "P(y|x, w) = h_w(x)^y(1-h_w(x))^{1-y}\n",
    "$$\n",
    "极大似然函数\n",
    "$$\n",
    "L(w) = \\prod_{i=1}^m{h_w(x^{(i)})^{y^{(i)}}(1-h_w(x^{(i)}))^{1-y^{(i)}}}\n",
    "$$\n",
    "对极大似然函数取对数然后取反，即得交叉熵损失函数（为了样本规模影响loss大小，损失函数除以了m），因此最小化交叉熵损失函数等价于最大化极大似然函数\n",
    "\n",
    "### (3). 梯度下降\n",
    "\n",
    "#### (i).  偏导\n",
    "\n",
    "$$\n",
    "\\frac{\\partial{J}}{\\partial{w}} = \\frac{1}{m}\\sum_{i=1}^m{(\\widehat{y}^{(i)}-y^{(i)})x^{(i)}}=\\frac{1}{m}X^T(h_w(X) - \\vec{y})\n",
    "$$\n",
    "\n",
    "#### (ii). 参数更新\n",
    "\n",
    "$$\n",
    "w = w -\\alpha * \\frac{\\partial{J}}{\\partial{w}}\n",
    "$$\n",
    "\n",
    "## 2. 多元逻辑回归\n",
    "\n",
    "* one vs rest 考虑某种类型为正值1，其余全为0，训练K个logistic分类器，适合K个类型不互斥的情况\n",
    "* one vs one: 选择一个类别和另一个类别训练分类器， softmax 多元逻辑回归\n",
    "\n",
    "### (1). softmax 多元逻辑回归\n",
    "\n",
    "$$\n",
    "P(y=k|x, w)=\\frac{e^{xw_k}}{\\sum_{t=1}^Ke^{xw_t}}\n",
    "$$\n",
    "\n",
    "其中$w_{K*n}$\n",
    "\n",
    "### (2). 损失函数\n",
    "\n",
    "$$\n",
    "J(w) = -\\sum_{i=1}^m{\\sum_{t=1}^K{1_{y=j}log(P(y=t|x, w))}}\n",
    "$$"
   ]
  },
  {
   "cell_type": "markdown",
   "id": "af534c03",
   "metadata": {},
   "source": [
    "## 3. python 实现"
   ]
  },
  {
   "cell_type": "code",
   "execution_count": 1,
   "id": "76f98d96",
   "metadata": {},
   "outputs": [],
   "source": [
    "import numpy as np\n",
    "import matplotlib.pyplot as plt\n",
    "from sklearn import datasets"
   ]
  },
  {
   "cell_type": "code",
   "execution_count": 2,
   "id": "115d5ca4",
   "metadata": {},
   "outputs": [],
   "source": [
    "def sigmoid(z):\n",
    "    return (1/(1+np.exp(-z)))\n",
    "\n",
    "\n",
    "def model(X, theta):\n",
    "    \"\"\"\n",
    "    X array(m * n)\n",
    "    theta array(n * 1)\n",
    "    \n",
    "    return : array (m * 1)\n",
    "    \"\"\"\n",
    "    return sigmoid(X @ theta)\n",
    "\n",
    "\n",
    "def computerCost(X, y, theta):\n",
    "    \"\"\"\n",
    "    X: array(m * n)\n",
    "    y: array(m * 1)\n",
    "    theta: array(n * 1)\n",
    "    \"\"\"\n",
    "    y_pred = model(X, theta)\n",
    "    m = X.shape[0]\n",
    "    J = (-1/m) * (y.T @ np.log(y_pred) +(1-y.T) @ np.log(1-y_pred))\n",
    "    return np.squeeze(J)\n",
    "\n",
    "\n",
    "def gradientDescent(X, y, theta, alpha, num_iters):\n",
    "    '''\n",
    "    X: array(m * n)\n",
    "    y: array(m * 1)\n",
    "    theta: array(n * 1)\n",
    "    alpha: learning rate between (0, 1)\n",
    "    num_iters: number of iteration times\n",
    "    \n",
    "    n should be the feature number plus 1\n",
    "    '''\n",
    "    J_history = np.empty((num_iters, 1))\n",
    "    for i in range(num_iters):\n",
    "        theta = theta - alpha * (1/m * (X.T @ (model(X, theta) - y)))\n",
    "        J_history[i] = computerCost(X, y, theta)\n",
    "        print('.', end='')\n",
    "    return theta, J_history"
   ]
  },
  {
   "cell_type": "markdown",
   "id": "0c2d92c4",
   "metadata": {},
   "source": [
    "### 1. 一个实例：手写数字识别"
   ]
  },
  {
   "cell_type": "code",
   "execution_count": 3,
   "id": "ee38a9be",
   "metadata": {},
   "outputs": [],
   "source": [
    "def one_vs_all(X, y, k, theta, alpha, num_iters):\n",
    "    \n",
    "    J_history = np.empty((k, num_iters, 1))\n",
    " \n",
    "    # 训练k个分类器\n",
    "    for i in range(k):\n",
    "        y_k = (y==i)\n",
    "        theta_k = theta[:, i]\n",
    "        theta_k = theta_k[:, np.newaxis]\n",
    "        theta_k, J_history[i, :, :] = gradientDescent(X, y_k, theta_k, alpha, num_iters)\n",
    "        theta[:, i] = np.squeeze(theta_k)\n",
    "        print('\\n**************\\n')\n",
    "\n",
    "        \n",
    "    return theta, J_history\n",
    "\n",
    "\n",
    "def predict(X, theta):\n",
    "    y_pred = model(X, theta)\n",
    "    y_type = np.argmax(y_pred, axis=1)\n",
    "    return y_type[:, np.newaxis]\n",
    "        \n",
    "    "
   ]
  },
  {
   "cell_type": "code",
   "execution_count": 4,
   "id": "bb544f0f",
   "metadata": {},
   "outputs": [
    {
     "name": "stdout",
     "output_type": "stream",
     "text": [
      "....................................................................................................\n",
      "**************\n",
      "\n",
      "......................................"
     ]
    },
    {
     "name": "stderr",
     "output_type": "stream",
     "text": [
      "D:\\Applications\\anaconda\\Anaconda\\envs\\myEnv\\lib\\site-packages\\ipykernel_launcher.py:23: RuntimeWarning: divide by zero encountered in log\n",
      "D:\\Applications\\anaconda\\Anaconda\\envs\\myEnv\\lib\\site-packages\\ipykernel_launcher.py:23: RuntimeWarning: invalid value encountered in matmul\n"
     ]
    },
    {
     "name": "stdout",
     "output_type": "stream",
     "text": [
      "..............................................................\n",
      "**************\n",
      "\n",
      "....................................................................................................\n",
      "**************\n",
      "\n",
      "....................................................................................................\n",
      "**************\n",
      "\n",
      "....................................................................................................\n",
      "**************\n",
      "\n",
      "....................................................................................................\n",
      "**************\n",
      "\n",
      "....................................................................................................\n",
      "**************\n",
      "\n",
      "....................................................................................................\n",
      "**************\n",
      "\n",
      "....................................................................................................\n",
      "**************\n",
      "\n",
      "....................................................................................................\n",
      "**************\n",
      "\n"
     ]
    }
   ],
   "source": [
    "digits = datasets.load_digits()\n",
    "X = digits.data\n",
    "y = digits.target\n",
    "m = len(y)\n",
    "n = X.shape[1] + 1\n",
    "X_adjust = np.hstack((np.ones((m, 1)), X))\n",
    "y = np.expand_dims(y, axis=1)\n",
    "\n",
    "k = 10\n",
    "alpha = 0.1\n",
    "num_iters = 100\n",
    "theta = np.random.random((n, k))\n",
    "\n",
    "theta, J_history = one_vs_all(X_adjust, y, k, theta, alpha, num_iters)"
   ]
  },
  {
   "cell_type": "code",
   "execution_count": 5,
   "id": "00a5e463",
   "metadata": {},
   "outputs": [
    {
     "name": "stdout",
     "output_type": "stream",
     "text": [
      "predict number:\n",
      " [[2]]\n",
      "true number:\n",
      " [2]\n"
     ]
    },
    {
     "data": {
      "image/png": "[encoded data removed]",
      "text/plain": [
       "<Figure size 432x288 with 1 Axes>"
      ]
     },
     "metadata": {
      "needs_background": "light"
     },
     "output_type": "display_data"
    }
   ],
   "source": [
    "# 随意选择一个数据观察预测值和真实值，并可视化该手写数字灰度图\n",
    "pick_index = 268\n",
    "x = X[pick_index, :]\n",
    "x_adjust = np.expand_dims(x, axis=0)\n",
    "x_adjust = np.hstack((np.ones((1, 1)), x_adjust))\n",
    "y_pred = predict(x_adjust, theta)\n",
    "plt.imshow(digits.images[pick_index], cmap='gray')\n",
    "print(\"predict number:\\n\", y_pred)\n",
    "print(\"true number:\\n\", y[pick_index])\n",
    "\n"
   ]
  },
  {
   "cell_type": "code",
   "execution_count": 6,
   "id": "5a8e4825",
   "metadata": {},
   "outputs": [
    {
     "name": "stdout",
     "output_type": "stream",
     "text": [
      "accuracy:\n",
      " 0.9465776293823038\n"
     ]
    }
   ],
   "source": [
    "# 计算准确率\n",
    "y_pred = predict(X_adjust, theta)\n",
    "m = len(y_pred)\n",
    "diff = (y_pred == y)\n",
    "accuracy = np.sum((y_pred == y)) / m\n",
    "print('accuracy:\\n', accuracy)"
   ]
  }
 ],
 "metadata": {
  "kernelspec": {
   "display_name": "myEnv",
   "language": "python",
   "name": "myenv"
  },
  "language_info": {
   "codemirror_mode": {
    "name": "ipython",
    "version": 3
   },
   "file_extension": ".py",
   "mimetype": "text/x-python",
   "name": "python",
   "nbconvert_exporter": "python",
   "pygments_lexer": "ipython3",
   "version": "3.6.13"
  }
 },
 "nbformat": 4,
 "nbformat_minor": 5
}
