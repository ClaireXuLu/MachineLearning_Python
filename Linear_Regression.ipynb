{
 "cells": [
  {
   "cell_type": "markdown",
   "id": "7489987d",
   "metadata": {},
   "source": [
    "## 1. 一元线性回归模型\n",
    "\n",
    "$$\n",
    "y=f(x)=b + wx\n",
    "$$\n",
    "\n",
    "### (1). 代价函数\n",
    "\n",
    "$$\n",
    "J(w) = \\frac{1}{2m}\\sum_{i=1}^m{(f^{(i)}(x) - y^{(i)})^2}\n",
    "$$\n",
    "\n",
    "### (2) 梯度下降\n",
    "\n",
    "#### (i) 偏导\n",
    "\n",
    "$$\n",
    "\\frac{\\partial{J}}{\\partial{w}} = \\frac{1}{m}\\sum_{i=1}^m{(f^{(i)}(x) - y^{(i)})x^{(i)}}\\\\\n",
    "\\frac{\\partial{J}}{\\partial{b}} = \\frac{1}{m}\\sum_{i=1}^m{(f^{(i)}(x) - y^{(i)})}\n",
    "$$\n",
    "\n",
    "#### (ii) 参数更新\n",
    "\n",
    "$$\n",
    "w = w - \\alpha*\\frac{\\partial{J}}{\\partial{w}}\\\\\n",
    "b = b - \\alpha*\\frac{\\partial{J}}{\\partial{b}}\n",
    "$$\n",
    "\n",
    "## 2. 多元线性回归模型\n",
    "\n",
    "$$\n",
    "y=f(x)=w_0 + w_1x_1 + w_2x_2 +...+w_nx_n\n",
    "$$\n",
    "\n",
    "### (1). 代价函数\n",
    "\n",
    "$$\n",
    "J(w) = \\frac{1}{2m}\\sum_{i=1}^m{(f^{(i)}(x) - y^{(i)})^2}\n",
    "$$\n",
    "\n",
    "### (2). 梯度下降\n",
    "\n",
    "$$\n",
    "\\frac{\\partial{J}}{\\partial{w_j}} = \\frac{1}{2m}\\sum_{i=1}^{m}(f^{(i)}(x) - y^{(i)})x_j^{(i)} \\\\\n",
    "w_j = w_j - \\alpha * \\frac{\\partial{J}}{\\partial{w_j}}\n",
    "$$\n",
    "\n",
    "## 3. 过程总结\n",
    "\n",
    "* 假定此时有数据 $X_{m*n}, $  $y_{m*1}$，采用线性模型进行回归预测\n",
    "* 如果数据规模过大进行归一化处理\n",
    "* 超参数确定， 学习率 $\\alpha$ \n",
    "* 初始化weight，确定梯度下降迭代次数，然后梯度下降法不断更新模型参数"
   ]
  },
  {
   "cell_type": "markdown",
   "id": "c2a7f93e",
   "metadata": {},
   "source": [
    "## 4. python实现"
   ]
  },
  {
   "cell_type": "code",
   "execution_count": 1,
   "id": "f74b7728",
   "metadata": {},
   "outputs": [],
   "source": [
    "import numpy as np\n",
    "import matplotlib.pyplot as plt"
   ]
  },
  {
   "cell_type": "code",
   "execution_count": 2,
   "id": "2badec0d",
   "metadata": {},
   "outputs": [],
   "source": [
    "def model(X, theta):\n",
    "    '''\n",
    "    X: array (m * n)\n",
    "    theta: array (n * 1)\n",
    "    \n",
    "    y_pred: array (m * 1)\n",
    "    '''\n",
    "    y_pred = X @ theta\n",
    "    return y_pred\n",
    "\n",
    "def computerCost(X, y, theta):\n",
    "    '''\n",
    "    X: array(m * n)\n",
    "    y: array(m * 1)\n",
    "    theta: array(n * 1)\n",
    "    n should be the feature number plus 1\n",
    "    '''\n",
    "    m = len(y)\n",
    "    y_pred = model(X, theta)\n",
    "    J = 1/ (2*m) * ((y_pred - y).T @ (y_pred - y))\n",
    "    return np.squeeze(J) "
   ]
  },
  {
   "cell_type": "code",
   "execution_count": 3,
   "id": "1385dd0e",
   "metadata": {},
   "outputs": [],
   "source": [
    "def gradientDescent(X, y, theta, alpha, num_iters):\n",
    "    '''\n",
    "    X: array(m * n)\n",
    "    y: array(m * 1)\n",
    "    theta: array(n * 1)\n",
    "    alpha: learning rate between (0, 1)\n",
    "    num_iters: number of iteration times\n",
    "    \n",
    "    n should be the feature number plus 1\n",
    "    '''\n",
    "    m = len(y)\n",
    "    n = len(theta)\n",
    "    \n",
    "    J_history = np.zeros((num_iters, 1))\n",
    "    for i in range(num_iters):\n",
    "        y_pred = model(X, theta)\n",
    "        theta = theta - (alpha / m * (X.T @ (y_pred - y)))\n",
    "        J_history[i] = computerCost(X, y, theta)\n",
    "        print('.', end='')\n",
    "    return theta, J_history\n",
    "        \n",
    "def featureNormaliza(X):\n",
    "    mu = np.mean(X, axis=0, keepdims=True)\n",
    "    sigma = np.std(X, axis=0, keepdims=True)\n",
    "    \n",
    "    X_adjust = (X - mu) / sigma\n",
    "    return X_adjust"
   ]
  },
  {
   "cell_type": "markdown",
   "id": "3816daf9",
   "metadata": {},
   "source": [
    "#### 一个实例"
   ]
  },
  {
   "cell_type": "code",
   "execution_count": 4,
   "id": "410de3ff",
   "metadata": {},
   "outputs": [
    {
     "name": "stdout",
     "output_type": "stream",
     "text": [
      "........................................................................................................................................................................................................................................................................................................................................................................................................................................................................................................................................................................................................................................................................................................................................................................................................................................................................................................................................................................................................................................\n",
      "theta:\n",
      " [[2.98392028]\n",
      " [0.1172277 ]\n",
      " [0.21683996]\n",
      " [2.99155072]\n",
      " [2.00470576]]\n"
     ]
    },
    {
     "data": {
      "image/png": "[encoded data removed]",
      "text/plain": [
       "<Figure size 432x288 with 1 Axes>"
      ]
     },
     "metadata": {
      "needs_background": "light"
     },
     "output_type": "display_data"
    }
   ],
   "source": [
    "X = np.random.random((100, 4))\n",
    "y = X @ np.array([[0.1], [0.2], [3], [2]]) + 3\n",
    "#plt.scatter(X[:, 2], y)\n",
    "\n",
    "X_adjust = np.hstack((np.ones((100, 1)), X))\n",
    "theta = np.random.random((5, 1))\n",
    "alpha = 0.1\n",
    "num_iters = 1000\n",
    "\n",
    "theta, J_history = gradientDescent(X_adjust, y, theta, alpha, num_iters)\n",
    "plt.plot(np.arange(1,num_iters+1), J_history)\n",
    "plt.xlabel('iteration number')\n",
    "plt.ylabel('loss')\n",
    "print('\\ntheta:\\n', theta)"
   ]
  },
  {
   "cell_type": "markdown",
   "id": "d32d010d",
   "metadata": {},
   "source": [
    "## 5. pytorch 从零实现"
   ]
  },
  {
   "cell_type": "code",
   "execution_count": 10,
   "id": "acd62871",
   "metadata": {},
   "outputs": [],
   "source": [
    "%matplotlib inline\n",
    "import random\n",
    "import torch\n",
    "import matplotlib.pyplot as plt\n"
   ]
  },
  {
   "cell_type": "code",
   "execution_count": 12,
   "id": "9dde1ed4",
   "metadata": {},
   "outputs": [
    {
     "name": "stdout",
     "output_type": "stream",
     "text": [
      "torch.Size([1000, 2]) torch.Size([1000, 1])\n"
     ]
    },
    {
     "data": {
      "text/plain": [
       "<matplotlib.collections.PathCollection at 0x18e02816a20>"
      ]
     },
     "execution_count": 12,
     "metadata": {},
     "output_type": "execute_result"
    },
    {
     "data": {
      "image/png": "[encoded data removed]",
      "text/plain": [
       "<Figure size 432x288 with 1 Axes>"
      ]
     },
     "metadata": {
      "needs_background": "light"
     },
     "output_type": "display_data"
    }
   ],
   "source": [
    "# 定义一个实例数据集并用迭代器生成batches\n",
    "\n",
    "def synthetic_data(w, b, num_examples):\n",
    "    X = torch.randn(size=(num_examples, len(w))) #pytorch 1.1.0不支持自定义size torch.normal(0, 1, size=(num_examples, len(w)))\n",
    "    y = torch.matmul(X, w) + b\n",
    "    y += torch.tensor([random.normalvariate(0, 0.01) for i in range(len(y))])#torch.normal(0, 0.01, size=y.shape)\n",
    "    return X, y.reshape((-1, 1))\n",
    "\n",
    "true_w = torch.tensor([2, -3.4])\n",
    "true_b = 4.2\n",
    "\n",
    "features, labels = synthetic_data(true_w, true_b, 1000)\n",
    "print(features.shape, labels.shape)\n",
    "\n",
    "plt.scatter(features[:, 1], labels)"
   ]
  },
  {
   "cell_type": "code",
   "execution_count": 19,
   "id": "fdd8433f",
   "metadata": {},
   "outputs": [
    {
     "name": "stdout",
     "output_type": "stream",
     "text": [
      "tensor([[-0.2147,  0.2243],\n",
      "        [ 1.6124, -0.7116],\n",
      "        [ 1.0809,  0.5928],\n",
      "        [ 0.4055,  1.2234],\n",
      "        [ 0.1446,  0.3353],\n",
      "        [-0.9852, -0.5864],\n",
      "        [ 0.4711,  0.4845],\n",
      "        [-0.3530, -0.0226],\n",
      "        [-0.2574,  0.7735],\n",
      "        [-1.5791, -0.1638]]) \n",
      " tensor([[3.0004],\n",
      "        [9.8292],\n",
      "        [4.3521],\n",
      "        [0.8500],\n",
      "        [3.3449],\n",
      "        [4.2281],\n",
      "        [3.5094],\n",
      "        [3.5622],\n",
      "        [1.0633],\n",
      "        [1.6302]])\n"
     ]
    }
   ],
   "source": [
    "# 定义一个数据集batch生成的迭代器\n",
    "def data_iter(batch_size, features, labels):\n",
    "    num_examples = len(features)\n",
    "    indices = list(range(num_examples))\n",
    "    random.shuffle(indices)\n",
    "    for i in range(0, num_examples, batch_size):\n",
    "        batch_indices = torch.tensor(indices[i:min(i+batch_size, num_examples)]) #计算中每个数据都要转tensor吗，因为gpu原因？\n",
    "        yield features[batch_indices, :], labels[batch_indices]\n",
    "\n",
    "for X, y in data_iter(10, features, labels):\n",
    "    print(X, '\\n', y)\n",
    "    break"
   ]
  },
  {
   "cell_type": "code",
   "execution_count": 28,
   "id": "a229f9d5",
   "metadata": {},
   "outputs": [
    {
     "name": "stdout",
     "output_type": "stream",
     "text": [
      "epoch 1, loss 0.04184\n",
      "epoch 2, loss 0.00015\n",
      "epoch 3, loss 0.00005\n",
      "true params\n",
      "tensor([ 2.0000, -3.4000]) \n",
      " 4.2\n",
      "predict params\n",
      "tensor([[ 2.0000],\n",
      "        [-3.3994]], requires_grad=True) \n",
      " tensor([4.1997], requires_grad=True)\n"
     ]
    }
   ],
   "source": [
    "# pytorch 从零实现线性回归\n",
    "\n",
    "## 1.定义模型\n",
    "def linreg(X, w, b):\n",
    "    return torch.matmul(X, w) + b\n",
    "## 2.定义损失\n",
    "def square_loss(y_hat, y):\n",
    "    return torch.sum((y_hat - y.reshape(y_hat.shape))**2 / 2) \n",
    "## 3.定义优化算法\n",
    "def sgd(params, lr, batch_size):\n",
    "    # 根据每次小批次backward计算的grad更新参数\n",
    "    # 因为更新参数并不参与计算图，所以no_grad\n",
    "    with torch.no_grad():\n",
    "        for param in params:\n",
    "            param -= lr * param.grad / batch_size # 把batch_size放在这里我认为可以减小每次算len(y)\n",
    "            # 因为pytorch有累积梯度的模式，所以更新完计算下一次梯度前需要清零\n",
    "            # pytorch这种累积梯度的模式有利于多重loss相加的模式 loss1+loss2+loss3\n",
    "            param.grad.zero_() \n",
    "## 4. 设置超参数和初始化超参数\n",
    "lr = 0.03\n",
    "num_epochs = 3\n",
    "batch_size=10\n",
    "net = linreg\n",
    "loss = square_loss\n",
    "w = torch.randn(size=(2,1), requires_grad=True)\n",
    "b = torch.randn(1, requires_grad=True)\n",
    "## 5. 训练\n",
    "for epoch in range(num_epochs):\n",
    "    for X, y in data_iter(batch_size, features, labels):\n",
    "        cur_loss = loss(net(X, w, b), y)\n",
    "        cur_loss.backward()\n",
    "        sgd([w, b], lr, batch_size)\n",
    "    # 打印一轮epoch后的loss\n",
    "    with torch.no_grad():\n",
    "        cur_loss = loss(net(features, w, b), labels)\n",
    "        print(f'epoch {epoch+1}, loss {float(cur_loss)/len(labels):0.5f}')\n",
    "print('true params')\n",
    "print(true_w, '\\n', true_b)\n",
    "print('predict params')\n",
    "print(w, '\\n', b)\n"
   ]
  },
  {
   "cell_type": "markdown",
   "id": "9cfaebc6",
   "metadata": {},
   "source": [
    "## 6. 调用pytorch的nn网络和utils模块实现"
   ]
  },
  {
   "cell_type": "code",
   "execution_count": 31,
   "id": "dc5cab38",
   "metadata": {},
   "outputs": [],
   "source": [
    "import torch\n",
    "from torch.utils import data\n",
    "from torch import nn\n",
    "import numpy as np"
   ]
  },
  {
   "cell_type": "code",
   "execution_count": 30,
   "id": "8203c219",
   "metadata": {},
   "outputs": [
    {
     "data": {
      "text/plain": [
       "[tensor([[-0.4523,  1.0501],\n",
       "         [-0.6016,  1.5562],\n",
       "         [ 0.1446,  0.3353],\n",
       "         [ 0.5227, -0.6455],\n",
       "         [ 1.9285, -1.1597],\n",
       "         [-0.9330,  1.0553],\n",
       "         [-1.4143, -0.2958],\n",
       "         [ 0.0914,  1.7845],\n",
       "         [ 1.7646, -0.7384],\n",
       "         [-0.9789,  0.4739]]),\n",
       " tensor([[-0.2966],\n",
       "         [-2.2894],\n",
       "         [ 3.3449],\n",
       "         [ 7.4393],\n",
       "         [12.0006],\n",
       "         [-1.2617],\n",
       "         [ 2.3584],\n",
       "         [-1.6929],\n",
       "         [10.2376],\n",
       "         [ 0.6367]])]"
      ]
     },
     "execution_count": 30,
     "metadata": {},
     "output_type": "execute_result"
    }
   ],
   "source": [
    "## 模拟的数据集还是和上一小节一样\n",
    "# true_w, true_b, features, labels\n",
    "\n",
    "## 调用data.TensorDataset, data.DataLoader api实现构造数据batch迭代器\n",
    "def load_array(data_arrays, batch_size, is_train=True):\n",
    "    dataset = data.TensorDataset(*data_arrays)\n",
    "    return data.DataLoader(dataset, batch_size, shuffle=is_train)\n",
    "\n",
    "batch_size = 10\n",
    "data_iter = load_array((features, labels), batch_size)\n",
    "next(iter(data_iter))"
   ]
  },
  {
   "cell_type": "code",
   "execution_count": 33,
   "id": "9252e6e3",
   "metadata": {},
   "outputs": [
    {
     "name": "stdout",
     "output_type": "stream",
     "text": [
      "epoch 1, loss 0.000253\n",
      "epoch 2, loss 0.000104\n",
      "epoch 3, loss 0.000104\n",
      "true params\n",
      "tensor([ 2.0000, -3.4000]) \n",
      " 4.2\n",
      "predict params\n",
      "tensor([[ 1.9994, -3.3981]]) \n",
      " tensor([4.2004])\n"
     ]
    }
   ],
   "source": [
    "## 1. 网络定义直接调用torch.nn模块\n",
    "net = nn.Sequential(nn.Linear(2, 1))\n",
    "# 参数初始化\n",
    "net[0].weight.data.normal_(0, 0.01)\n",
    "net[0].bias.data.fill_(0)\n",
    "\n",
    "## 2. loss\n",
    "loss = nn.MSELoss()\n",
    "\n",
    "## 3. 优化方法\n",
    "trainer = torch.optim.SGD(net.parameters(), lr=0.03)\n",
    "\n",
    "## 4. 训练\n",
    "num_epochs = 3\n",
    "for epoch in range(num_epochs):\n",
    "    for X, y in data_iter:\n",
    "        cur_loss = loss(net(X), y)\n",
    "        trainer.zero_grad()\n",
    "        cur_loss.backward()\n",
    "        trainer.step()\n",
    "    cur_loss = loss(net(features), labels)\n",
    "    print(f'epoch {epoch + 1}, loss {cur_loss:f}')\n",
    "print('true params')\n",
    "print(true_w, '\\n', true_b)\n",
    "print('predict params')\n",
    "print(net[0].weight.data, '\\n', net[0].bias.data)"
   ]
  }
 ],
 "metadata": {
  "kernelspec": {
   "display_name": "myEnv",
   "language": "python",
   "name": "myenv"
  },
  "language_info": {
   "codemirror_mode": {
    "name": "ipython",
    "version": 3
   },
   "file_extension": ".py",
   "mimetype": "text/x-python",
   "name": "python",
   "nbconvert_exporter": "python",
   "pygments_lexer": "ipython3",
   "version": "3.6.13"
  }
 },
 "nbformat": 4,
 "nbformat_minor": 5
}
