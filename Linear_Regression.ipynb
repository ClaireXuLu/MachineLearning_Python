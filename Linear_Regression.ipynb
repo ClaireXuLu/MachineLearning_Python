{
 "cells": [
  {
   "cell_type": "markdown",
   "id": "7489987d",
   "metadata": {},
   "source": [
    "## 1. 一元线性回归模型\n",
    "\n",
    "$$\n",
    "y=f(x)=b + wx\n",
    "$$\n",
    "\n",
    "### (1). 代价函数\n",
    "\n",
    "$$\n",
    "J(w) = \\frac{1}{2m}\\sum_{i=1}^m{(f^{(i)}(x) - y^{(i)})^2}\n",
    "$$\n",
    "\n",
    "### (2) 梯度下降\n",
    "\n",
    "#### (i) 偏导\n",
    "\n",
    "$$\n",
    "\\frac{\\partial{J}}{\\partial{w}} = \\frac{1}{m}\\sum_{i=1}^m{(f^{(i)}(x) - y^{(i)})x^{(i)}}\\\\\n",
    "\\frac{\\partial{J}}{\\partial{b}} = \\frac{1}{m}\\sum_{i=1}^m{(f^{(i)}(x) - y^{(i)})}\n",
    "$$\n",
    "\n",
    "#### (ii) 参数更新\n",
    "\n",
    "$$\n",
    "w = w - \\alpha*\\frac{\\partial{J}}{\\partial{w}}\\\\\n",
    "b = b - \\alpha*\\frac{\\partial{J}}{\\partial{b}}\n",
    "$$\n",
    "\n",
    "## 2. 多元线性回归模型\n",
    "\n",
    "$$\n",
    "y=f(x)=w_0 + w_1x_1 + w_2x_2 +...+w_nx_n\n",
    "$$\n",
    "\n",
    "### (1). 代价函数\n",
    "\n",
    "$$\n",
    "J(w) = \\frac{1}{2m}\\sum_{i=1}^m{(f^{(i)}(x) - y^{(i)})^2}\n",
    "$$\n",
    "\n",
    "### (2). 梯度下降\n",
    "\n",
    "$$\n",
    "\\frac{\\partial{J}}{\\partial{w_j}} = \\frac{1}{2m}\\sum_{i=1}^{m}(f^{(i)}(x) - y^{(i)})x_j^{(i)} \\\\\n",
    "w_j = w_j - \\alpha * \\frac{\\partial{J}}{\\partial{w_j}}\n",
    "$$\n",
    "\n",
    "## 3. 过程总结\n",
    "\n",
    "* 假定此时有数据 $X_{m*n}, $  $y_{m*1}$，采用线性模型进行回归预测\n",
    "* 如果数据规模过大进行归一化处理\n",
    "* 超参数确定， 学习率 $\\alpha$ \n",
    "* 初始化weight，确定梯度下降迭代次数，然后梯度下降法不断更新模型参数"
   ]
  },
  {
   "cell_type": "markdown",
   "id": "c2a7f93e",
   "metadata": {},
   "source": [
    "## 4. python实现"
   ]
  },
  {
   "cell_type": "code",
   "execution_count": 1,
   "id": "f74b7728",
   "metadata": {},
   "outputs": [],
   "source": [
    "import numpy as np\n",
    "import matplotlib.pyplot as plt"
   ]
  },
  {
   "cell_type": "code",
   "execution_count": 2,
   "id": "2badec0d",
   "metadata": {},
   "outputs": [],
   "source": [
    "def model(X, theta):\n",
    "    '''\n",
    "    X: array (m * n)\n",
    "    theta: array (n * 1)\n",
    "    \n",
    "    y_pred: array (m * 1)\n",
    "    '''\n",
    "    y_pred = X @ theta\n",
    "    return y_pred\n",
    "\n",
    "def computerCost(X, y, theta):\n",
    "    '''\n",
    "    X: array(m * n)\n",
    "    y: array(m * 1)\n",
    "    theta: array(n * 1)\n",
    "    n should be the feature number plus 1\n",
    "    '''\n",
    "    m = len(y)\n",
    "    y_pred = model(X, theta)\n",
    "    J = 1/ (2*m) * ((y_pred - y).T @ (y_pred - y))\n",
    "    return np.squeeze(J) "
   ]
  },
  {
   "cell_type": "code",
   "execution_count": 3,
   "id": "1385dd0e",
   "metadata": {},
   "outputs": [],
   "source": [
    "def gradientDescent(X, y, theta, alpha, num_iters):\n",
    "    '''\n",
    "    X: array(m * n)\n",
    "    y: array(m * 1)\n",
    "    theta: array(n * 1)\n",
    "    alpha: learning rate between (0, 1)\n",
    "    num_iters: number of iteration times\n",
    "    \n",
    "    n should be the feature number plus 1\n",
    "    '''\n",
    "    m = len(y)\n",
    "    n = len(theta)\n",
    "    \n",
    "    J_history = np.zeros((num_iters, 1))\n",
    "    for i in range(num_iters):\n",
    "        y_pred = model(X, theta)\n",
    "        theta = theta - (alpha / m * (X.T @ (y_pred - y)))\n",
    "        J_history[i] = computerCost(X, y, theta)\n",
    "        print('.', end='')\n",
    "    return theta, J_history\n",
    "        \n",
    "def featureNormaliza(X):\n",
    "    mu = np.mean(X, axis=0, keepdims=True)\n",
    "    sigma = np.std(X, axis=0, keepdims=True)\n",
    "    \n",
    "    X_adjust = (X - mu) / sigma\n",
    "    return X_adjust"
   ]
  },
  {
   "cell_type": "markdown",
   "id": "3816daf9",
   "metadata": {},
   "source": [
    "#### 一个实例"
   ]
  },
  {
   "cell_type": "code",
   "execution_count": 4,
   "id": "410de3ff",
   "metadata": {},
   "outputs": [
    {
     "name": "stdout",
     "output_type": "stream",
     "text": [
      "........................................................................................................................................................................................................................................................................................................................................................................................................................................................................................................................................................................................................................................................................................................................................................................................................................................................................................................................................................................................................................................\n",
      "theta:\n",
      " [[2.98392028]\n",
      " [0.1172277 ]\n",
      " [0.21683996]\n",
      " [2.99155072]\n",
      " [2.00470576]]\n"
     ]
    },
    {
     "data": {
      "image/png": "[encoded data removed]",
      "text/plain": [
       "<Figure size 432x288 with 1 Axes>"
      ]
     },
     "metadata": {
      "needs_background": "light"
     },
     "output_type": "display_data"
    }
   ],
   "source": [
    "X = np.random.random((100, 4))\n",
    "y = X @ np.array([[0.1], [0.2], [3], [2]]) + 3\n",
    "#plt.scatter(X[:, 2], y)\n",
    "\n",
    "X_adjust = np.hstack((np.ones((100, 1)), X))\n",
    "theta = np.random.random((5, 1))\n",
    "alpha = 0.1\n",
    "num_iters = 1000\n",
    "\n",
    "theta, J_history = gradientDescent(X_adjust, y, theta, alpha, num_iters)\n",
    "plt.plot(np.arange(1,num_iters+1), J_history)\n",
    "plt.xlabel('iteration number')\n",
    "plt.ylabel('loss')\n",
    "print('\\ntheta:\\n', theta)"
   ]
  }
 ],
 "metadata": {
  "kernelspec": {
   "display_name": "myEnv",
   "language": "python",
   "name": "myenv"
  },
  "language_info": {
   "codemirror_mode": {
    "name": "ipython",
    "version": 3
   },
   "file_extension": ".py",
   "mimetype": "text/x-python",
   "name": "python",
   "nbconvert_exporter": "python",
   "pygments_lexer": "ipython3",
   "version": "3.6.13"
  }
 },
 "nbformat": 4,
 "nbformat_minor": 5
}
