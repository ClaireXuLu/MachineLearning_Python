{
 "cells": [
  {
   "cell_type": "markdown",
   "metadata": {},
   "source": [
    "# 八、KNN(K Nearest Neighbor Algorithm)\n",
    "\n",
    "## 1.算法简述\n",
    "\n",
    "KNN算法是最简单的一种分类算法，其模型就是其样本数据本身，无需训练，只需在测试时寻找K近邻样本点，然后多数决议，决定预测点的类别。\n",
    "\n",
    "1. 找k近邻\n",
    "2. 根据k近邻最多的类别进行预测\n",
    "\n",
    "KNN算法有3个点需要确定：\n",
    "\n",
    "1. k的选择，elbow 算法，根据可视化观测等\n",
    "\n",
    "2. 度量选择，一般用欧氏距离，还有曼哈顿距离，闵可夫斯基距离\n",
    "\n",
    "3. 分类决策规则：一般用多数决议规则\n",
    "\n",
    "     \n",
    "\n",
    "## 2. python实现\n",
    "\n",
    "这个算法其实难点在于找k进邻，那么有暴力法，KD树，球树法等。这里提供from scratch的暴力法，其他方法就调用sklearn里的方法了\n",
    "\n",
    "### 2.1 KNN in Bruct Force"
   ]
  },
  {
   "cell_type": "code",
   "execution_count": 22,
   "metadata": {},
   "outputs": [],
   "source": [
    "import numpy as np\n",
    "import matplotlib.pyplot as plt\n",
    "\n",
    "class Knn:\n",
    "    def __init__(self, k):\n",
    "        self.k = k\n",
    "\n",
    "    def fit(self, X, y, k):\n",
    "        \"\"\"_summary_\n",
    "\n",
    "        Args:\n",
    "            X (ndarray): m*n \n",
    "            y (ndarray): (m, )\n",
    "        \"\"\"\n",
    "        self.X_train = X\n",
    "        self.y_train = y\n",
    "        \n",
    "    \n",
    "    def predict(self, X_test):\n",
    "        # find k nearest neighbor index in training dataset\n",
    "        dists = np.linalg.norm(np.expand_dims(X_test, axis=1) - np.expand_dims(self.X_train, axis=0), axis=2) # m_test * m_train\n",
    "        knn_index = np.argsort(dists, axis=1)[:, :self.k] # m_test * k\n",
    "        m_test = X_test.shape[0]\n",
    "        y_pred = np.empty(m_test)\n",
    "        for i in range(m_test):\n",
    "            y_pred[i] = np.argmax(np.bincount(np.squeeze(self.y_train[knn_index[i]])))\n",
    "        return y_pred   \n",
    "\n",
    "    "
   ]
  },
  {
   "cell_type": "markdown",
   "metadata": {},
   "source": [
    "### 2.2一个实例"
   ]
  },
  {
   "cell_type": "code",
   "execution_count": 23,
   "metadata": {},
   "outputs": [
    {
     "name": "stdout",
     "output_type": "stream",
     "text": [
      "[1. 0. 1. 0.]\n"
     ]
    },
    {
     "data": {
      "image/png": "[encoded data removed]",
      "text/plain": [
       "<Figure size 432x288 with 1 Axes>"
      ]
     },
     "metadata": {
      "needs_background": "light"
     },
     "output_type": "display_data"
    }
   ],
   "source": [
    "from turtle import color\n",
    "\n",
    "\n",
    "X = np.array([\n",
    "    [1, 1],\n",
    "    [2, 2],\n",
    "    [1, 2],\n",
    "    [2, 3],\n",
    "    [2, 1],\n",
    "    [-1, -1],\n",
    "    [-2, -2],\n",
    "    [-2, -1],\n",
    "    [-1, -2],\n",
    "    [-3, -2],\n",
    "])\n",
    "y = np.array([1, 1, 1, 1, 1, 0, 0, 0, 0, 0], dtype=np.int8)\n",
    "pos_data = X[y==1]\n",
    "neg_data = X[y==0]\n",
    "\n",
    "plt.scatter(pos_data[:, 0], pos_data[:, 1], marker='o', color='b')\n",
    "plt.scatter(neg_data[:, 0], neg_data[:, 1], marker='o', color='r')\n",
    "\n",
    "\n",
    "knn = Knn(k=2)\n",
    "knn.fit(X, y, 2)\n",
    "X_test = np.array([\n",
    "    [2, 2.5],\n",
    "    [-2, -2.5],\n",
    "    [3, 3],\n",
    "    [-3, -3],\n",
    "])\n",
    "y_test = knn.predict(X_test)\n",
    "print(y_test)\n",
    "\n",
    "X_test_pos = X_test[y_test==1]\n",
    "X_test_neg = X_test[y_test==0]\n",
    "plt.scatter(X_test_pos[:, 0], X_test_pos[:, 1], marker='+', color='b')\n",
    "plt.scatter(X_test_neg[:, 0], X_test_neg[:, 1], marker='+', color='r')\n",
    "plt.show()"
   ]
  },
  {
   "cell_type": "markdown",
   "metadata": {},
   "source": [
    "### 2.3 sklearn实现"
   ]
  },
  {
   "cell_type": "code",
   "execution_count": 24,
   "metadata": {},
   "outputs": [
    {
     "name": "stdout",
     "output_type": "stream",
     "text": [
      "[1 0 1 0]\n"
     ]
    }
   ],
   "source": [
    "from sklearn.neighbors import KNeighborsClassifier\n",
    "knn_sklearn = KNeighborsClassifier(n_neighbors=2, algorithm='kd_tree')\n",
    "knn_sklearn.fit(X, y)\n",
    "print(knn_sklearn.predict(X_test))"
   ]
  }
 ],
 "metadata": {
  "kernelspec": {
   "display_name": "Python 3.6.13 ('myEnv')",
   "language": "python",
   "name": "python3"
  },
  "language_info": {
   "codemirror_mode": {
    "name": "ipython",
    "version": 3
   },
   "file_extension": ".py",
   "mimetype": "text/x-python",
   "name": "python",
   "nbconvert_exporter": "python",
   "pygments_lexer": "ipython3",
   "version": "3.6.13"
  },
  "orig_nbformat": 4,
  "vscode": {
   "interpreter": {
    "hash": "e38ba9a5944a3421f77c1c2862354ade0dcdf22eb57eefe299a6ebec0eb6e7ac"
   }
  }
 },
 "nbformat": 4,
 "nbformat_minor": 2
}
